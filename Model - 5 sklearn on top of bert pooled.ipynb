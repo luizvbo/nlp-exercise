{
 "cells": [
  {
   "cell_type": "code",
   "execution_count": null,
   "metadata": {},
   "outputs": [
    {
     "data": {
      "application/vnd.jupyter.widget-view+json": {
       "model_id": "dc896179e00e46cf8e52d5eec19d0b31",
       "version_major": 2,
       "version_minor": 0
      },
      "text/plain": [
       "HBox(children=(FloatProgress(value=0.0, description='Downloading', max=230.0, style=ProgressStyle(description_…"
      ]
     },
     "metadata": {},
     "output_type": "display_data"
    },
    {
     "name": "stdout",
     "output_type": "stream",
     "text": [
      "\n",
      "Fits for number of data points:1000\n",
      "Extracts bert features for:999 sequences\n",
      "Done extracting bert features\n",
      "Predicts and computes accuracy for the entire data set\n",
      "Extracts bert features for:50000 sequences\n"
     ]
    }
   ],
   "source": [
    "from sklearn.base import BaseEstimator, TransformerMixin\n",
    "from transformers import pipeline\n",
    "import numpy as np\n",
    "from sklearn.pipeline import Pipeline\n",
    "from sklearn.linear_model import LogisticRegression\n",
    "from utils import get_reviews, results\n",
    "import pandas as pd\n",
    "\n",
    "class BertFeatures(BaseEstimator, TransformerMixin):\n",
    "    def __init__(self):\n",
    "        self.nlp = pipeline('feature-extraction')\n",
    "        \n",
    "    def fit(self, X, y=None):\n",
    "        return self\n",
    "    \n",
    "    def transform(self, X: np.array):\n",
    "        X = list(X)\n",
    "        print(f'Extracts bert features for:{len(X)} sequences')\n",
    "        features = np.array(\n",
    "            self.nlp(X, pad_to_max_length=True)\n",
    "        )\n",
    "        print('Done extracting bert features')\n",
    "        return features\n",
    "    \n",
    "class PooledOutput(BaseEstimator, TransformerMixin):\n",
    "    def fit(self, X, y=None):\n",
    "        return self\n",
    "    \n",
    "    def transform(self, X: np.array, y=None):\n",
    "        # Size is n_datapints x n_tokens + 2 x nlp_model_dimension\n",
    "        # +2 because bert adds cls in front and sep at end\n",
    "        # returns first tokens embedding for each sequence\n",
    "        return X[:, 0, :]\n",
    "    \n",
    "def make_pooled_bert():\n",
    "    return Pipeline([\n",
    "        ('bert_features', BertFeatures()),\n",
    "        ('pooling', PooledOutput()),\n",
    "        ('classifier', LogisticRegression(\n",
    "            solver='saga', max_iter=5000)\n",
    "        )\n",
    "    ])\n",
    "\n",
    "\n",
    "df = get_reviews()\n",
    "#df = df.sample(100)\n",
    "\n",
    "(\n",
    "    pd.DataFrame(results(\n",
    "        df,\n",
    "        make_model=make_pooled_bert,\n",
    "        n_data_points=[1000, 10000, 20000, len(df)]\n",
    "        #n_data_points=[50, 100]\n",
    "    ))\n",
    "    .set_index('n_data_points')\n",
    "    .plot(title='Number of data points and train set accuracy')\n",
    ");"
   ]
  },
  {
   "cell_type": "code",
   "execution_count": null,
   "metadata": {},
   "outputs": [],
   "source": []
  }
 ],
 "metadata": {
  "kernelspec": {
   "display_name": "Python (deeplearning)",
   "language": "python",
   "name": "deeplearning"
  },
  "language_info": {
   "codemirror_mode": {
    "name": "ipython",
    "version": 3
   },
   "file_extension": ".py",
   "mimetype": "text/x-python",
   "name": "python",
   "nbconvert_exporter": "python",
   "pygments_lexer": "ipython3",
   "version": "3.7.6"
  }
 },
 "nbformat": 4,
 "nbformat_minor": 4
}
