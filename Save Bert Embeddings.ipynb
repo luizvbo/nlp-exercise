{
 "cells": [
  {
   "cell_type": "code",
   "execution_count": 1,
   "metadata": {},
   "outputs": [],
   "source": [
    "from utils import get_reviews\n",
    "\n",
    "texts = get_reviews()['review'].tolist()"
   ]
  },
  {
   "cell_type": "code",
   "execution_count": 2,
   "metadata": {},
   "outputs": [],
   "source": [
    "from transformers.modeling_distilbert import DistilBertModel\n",
    "from transformers.tokenization_distilbert import DistilBertTokenizerFast\n",
    "\n",
    "tokenizer = DistilBertTokenizerFast.from_pretrained('distilbert-base-cased')\n",
    "model = DistilBertModel.from_pretrained('distilbert-base-cased')"
   ]
  },
  {
   "cell_type": "code",
   "execution_count": 3,
   "metadata": {},
   "outputs": [],
   "source": [
    "import numpy as np\n",
    "import torch\n",
    "\n",
    "def get_embedding(texts, tokenizer, model, max_len):\n",
    "    input_ids = torch.LongTensor(\n",
    "        tokenizer.batch_encode_plus(\n",
    "        texts, max_length=max_len, pad_to_max_length=True\n",
    "    )['input_ids'])\n",
    "    \n",
    "    return model(input_ids)[0].detach().numpy()"
   ]
  },
  {
   "cell_type": "code",
   "execution_count": 4,
   "metadata": {},
   "outputs": [
    {
     "name": "stderr",
     "output_type": "stream",
     "text": [
      "100%|██████████| 781/781 [1:22:02<00:00,  6.30s/it]\n"
     ]
    }
   ],
   "source": [
    "from tqdm import tqdm\n",
    "\n",
    "max_len = 250\n",
    "shape = (len(texts), max_len, model.config.dim)\n",
    "\n",
    "out_of_memmory_array = np.memmap(\n",
    "    f'bert_features_shape_{shape}.dat', dtype='float16', mode='w+',\n",
    "    shape=shape)\n",
    "\n",
    "\n",
    "batch_size = 64\n",
    "n_batches = int(len(texts)/batch_size)\n",
    "\n",
    "for batch_end_index in tqdm(range(batch_size,\n",
    "                                  len(texts),\n",
    "                                  batch_size),\n",
    "                            total=n_batches):\n",
    "    \n",
    "    batch = texts[batch_end_index - batch_size: batch_end_index]\n",
    "    embeddings = get_embedding(batch, tokenizer, model, max_len)\n",
    "    out_of_memmory_array[batch_end_index - batch_size:batch_end_index, :, :] = embeddings"
   ]
  },
  {
   "cell_type": "code",
   "execution_count": 4,
   "metadata": {},
   "outputs": [],
   "source": []
  }
 ],
 "metadata": {
  "kernelspec": {
   "display_name": "Python (deeplearning)",
   "language": "python",
   "name": "deeplearning"
  },
  "language_info": {
   "codemirror_mode": {
    "name": "ipython",
    "version": 3
   },
   "file_extension": ".py",
   "mimetype": "text/x-python",
   "name": "python",
   "nbconvert_exporter": "python",
   "pygments_lexer": "ipython3",
   "version": "3.6.10"
  }
 },
 "nbformat": 4,
 "nbformat_minor": 4
}