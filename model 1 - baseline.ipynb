{
 "cells": [
  {
   "cell_type": "code",
   "execution_count": 1,
   "metadata": {},
   "outputs": [
    {
     "name": "stdout",
     "output_type": "stream",
     "text": [
      "                                              review sentiment\n",
      "0  One of the other reviewers has mentioned that ...  positive\n",
      "1  A wonderful little production.   The filming t...  positive\n",
      "2  I thought this was a wonderful way to spend ti...  positive\n",
      "3  Basically there's a family where a little boy ...  negative\n",
      "4  Petter Mattei's \"Love in the Time of Money\" is...  positive\n",
      "(50000, 2)\n",
      "positive    0.5\n",
      "negative    0.5\n",
      "Name: sentiment, dtype: float64\n"
     ]
    }
   ],
   "source": [
    "import pandas as pd\n",
    "import re\n",
    "\n",
    "def preprocess(x):\n",
    "    x = re.sub(\"<br\\\\s*/?>\", \" \", x)\n",
    "    return x   \n",
    "\n",
    "df = (\n",
    "    pd.read_csv(\"data/IMDB Dataset.csv\")\n",
    "    .assign(review=lambda df: df['review'].apply(preprocess))\n",
    ")\n",
    " \n",
    "print(df.head())\n",
    "print(df.shape)\n",
    "print(df['sentiment'].value_counts(normalize=True))"
   ]
  },
  {
   "cell_type": "code",
   "execution_count": 2,
   "metadata": {},
   "outputs": [
    {
     "data": {
      "image/png": "[encoded data removed]",
      "text/plain": [
       "<Figure size 432x288 with 1 Axes>"
      ]
     },
     "metadata": {
      "needs_background": "light"
     },
     "output_type": "display_data"
    }
   ],
   "source": [
    "(\n",
    "    df['review']\n",
    "    .str.split(' ')\n",
    "    .str.len()\n",
    "    .plot.hist(title='Words per sentence')\n",
    ");"
   ]
  },
  {
   "cell_type": "code",
   "execution_count": 3,
   "metadata": {},
   "outputs": [
    {
     "name": "stdout",
     "output_type": "stream",
     "text": [
      "Fits for number of data points:1000\n",
      "Fits for number of data points:10000\n",
      "Fits for number of data points:20000\n",
      "Fits for number of data points:50000\n"
     ]
    },
    {
     "data": {
      "image/png": "[encoded data removed]",
      "text/plain": [
       "<Figure size 432x288 with 1 Axes>"
      ]
     },
     "metadata": {
      "needs_background": "light"
     },
     "output_type": "display_data"
    }
   ],
   "source": [
    "from sklearn.pipeline import Pipeline\n",
    "from sklearn.feature_extraction.text import CountVectorizer\n",
    "from sklearn.linear_model import LogisticRegression\n",
    "from sklearn.metrics import accuracy_score\n",
    "from sklearn.model_selection import train_test_split\n",
    "\n",
    "\n",
    "def make_model():\n",
    "    return Pipeline([\n",
    "        ('d2v', CountVectorizer(\n",
    "            max_features=10000,\n",
    "            max_df=0.95, min_df=0.01)),\n",
    "        ('classifier', LogisticRegression(\n",
    "            solver='saga', max_iter=5000)\n",
    "        )\n",
    "    ])\n",
    "\n",
    "\n",
    "def get_x_y(df):\n",
    "    X = df['review'].values\n",
    "    y = (df['sentiment'] == 'positive').values\n",
    "    return X, y\n",
    "\n",
    "def results(df,  n_data_points):\n",
    "    X, y = get_x_y(df)\n",
    "    \n",
    "    for n_data_point in n_data_points:\n",
    "        \n",
    "        _, X_sample, _, y_sample = train_test_split(\n",
    "            X, y, test_size=n_data_point - 1, random_state=0)\n",
    "    \n",
    "        model = make_model()\n",
    "        print(f'Fits for number of data points:{n_data_point}')\n",
    "        model.fit(X_sample, y_sample)\n",
    "        \n",
    "        a = accuracy_score(y, model.predict(X))\n",
    "        \n",
    "        yield {\n",
    "            'n_data_points': n_data_point,\n",
    "            'accuracy': a\n",
    "        }\n",
    "\n",
    "        \n",
    "(\n",
    "    pd.DataFrame(results(\n",
    "        df,\n",
    "        n_data_points=[1000, 10000, 20000, len(df)]\n",
    "    ))\n",
    "    .set_index('n_data_points')\n",
    "    .plot(title='Number of data points and train set accuracy')\n",
    ");"
   ]
  },
  {
   "cell_type": "code",
   "execution_count": null,
   "metadata": {},
   "outputs": [],
   "source": []
  }
 ],
 "metadata": {
  "kernelspec": {
   "display_name": "Python (deeplearning)",
   "language": "python",
   "name": "deeplearning"
  },
  "language_info": {
   "codemirror_mode": {
    "name": "ipython",
    "version": 3
   },
   "file_extension": ".py",
   "mimetype": "text/x-python",
   "name": "python",
   "nbconvert_exporter": "python",
   "pygments_lexer": "ipython3",
   "version": "3.7.6"
  }
 },
 "nbformat": 4,
 "nbformat_minor": 4
}
