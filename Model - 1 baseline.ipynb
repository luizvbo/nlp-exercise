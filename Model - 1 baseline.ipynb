{
 "cells": [
  {
   "cell_type": "code",
   "execution_count": null,
   "metadata": {},
   "outputs": [],
   "source": [
    "%%time\n",
    "\n",
    "from sklearn.pipeline import Pipeline\n",
    "from sklearn.feature_extraction.text import CountVectorizer\n",
    "from sklearn.linear_model import LogisticRegression\n",
    "from sklearn.neural_network import MLPClassifier\n",
    "from sklearn.metrics import accuracy_score\n",
    "from sklearn.model_selection import train_test_split\n",
    "from utils import results, get_reviews\n",
    "import pandas as pd\n",
    "\n",
    "def make_baseline_sklearn():\n",
    "    return Pipeline([\n",
    "        ('d2v', CountVectorizer(\n",
    "            max_features=10000,\n",
    "            max_df=0.95, min_df=0.01)),\n",
    "        ('classifier', MLPClassifier(\n",
    "            batch_size=128, hidden_layer_sizes=(64, 64),\n",
    "            solver='adam', verbose=False, max_iter=400,\n",
    "            n_iter_no_change=50\n",
    "        ))\n",
    "    ])\n",
    "\n",
    "\n",
    "df = get_reviews()\n",
    "#df = df.sample(1000)\n",
    "        \n",
    "(\n",
    "    pd.DataFrame(results(\n",
    "        df,\n",
    "        make_model=make_baseline_sklearn,\n",
    "        n_data_points=[1000, 10000, 20000, 35000, len(df)],\n",
    "        #n_data_points=[100, 500, len(df)],\n",
    "        batch_size_inference=1024\n",
    "    ))\n",
    "    .set_index('n_data_points')\n",
    "    .plot(title='Number of data points and train set accuracy')\n",
    ");"
   ]
  },
  {
   "cell_type": "code",
   "execution_count": null,
   "metadata": {},
   "outputs": [],
   "source": []
  }
 ],
 "metadata": {
  "kernelspec": {
   "display_name": "Python (deeplearning)",
   "language": "python",
   "name": "deeplearning"
  },
  "language_info": {
   "codemirror_mode": {
    "name": "ipython",
    "version": 3
   },
   "file_extension": ".py",
   "mimetype": "text/x-python",
   "name": "python",
   "nbconvert_exporter": "python",
   "pygments_lexer": "ipython3",
   "version": "3.7.6"
  }
 },
 "nbformat": 4,
 "nbformat_minor": 4
}
