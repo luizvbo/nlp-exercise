{
 "cells": [
  {
   "cell_type": "code",
   "execution_count": 1,
   "metadata": {},
   "outputs": [
    {
     "name": "stdout",
     "output_type": "stream",
     "text": [
      "Fits for number of data points:1000\n",
      "Predicts and computes accuracy for the test set\n",
      "Fits for number of data points:10000\n",
      "Predicts and computes accuracy for the test set\n",
      "Fits for number of data points:20000\n",
      "Predicts and computes accuracy for the test set\n",
      "Fits for number of data points:35000\n",
      "Predicts and computes accuracy for the test set\n",
      "Fits for number of data points:42500\n",
      "Predicts and computes accuracy for the test set\n",
      "CPU times: user 35min 46s, sys: 2h 24min 50s, total: 3h 37s\n",
      "Wall time: 11min 31s\n"
     ]
    },
    {
     "data": {
      "text/plain": [
       "<matplotlib.axes._subplots.AxesSubplot at 0x7f48381cea58>"
      ]
     },
     "execution_count": 1,
     "metadata": {},
     "output_type": "execute_result"
    },
    {
     "data": {
      "image/png": "[encoded data removed]",
      "text/plain": [
       "<Figure size 432x288 with 1 Axes>"
      ]
     },
     "metadata": {
      "needs_background": "light"
     },
     "output_type": "display_data"
    }
   ],
   "source": [
    "%%time\n",
    "\n",
    "from sklearn.pipeline import Pipeline\n",
    "from sklearn.feature_extraction.text import CountVectorizer\n",
    "from sklearn.linear_model import LogisticRegression\n",
    "from sklearn.neural_network import MLPClassifier\n",
    "from sklearn.metrics import accuracy_score\n",
    "from sklearn.model_selection import train_test_split\n",
    "from utils import results, get_reviews\n",
    "import pandas as pd\n",
    "\n",
    "def make_baseline_sklearn():\n",
    "    return Pipeline([\n",
    "        ('d2v', CountVectorizer(\n",
    "            max_features=10000,\n",
    "            max_df=0.95, min_df=0.01)),\n",
    "        ('classifier', MLPClassifier(\n",
    "            batch_size=128, hidden_layer_sizes=(64, 64),\n",
    "            solver='adam', verbose=False, max_iter=400,\n",
    "            n_iter_no_change=50\n",
    "        ))\n",
    "    ])\n",
    "\n",
    "\n",
    "df = get_reviews()\n",
    "#df = df.sample(1000)\n",
    "        \n",
    "(\n",
    "    pd.DataFrame(results(\n",
    "        df,\n",
    "        make_model=make_baseline_sklearn,\n",
    "        n_data_points=[1000, 10000, 20000, 35000, int(len(df)*0.85)],\n",
    "        #n_data_points=[100, 500, len(df)],\n",
    "        batch_size_inference=1024,\n",
    "        test_size=0.15\n",
    "    ))\n",
    "    .set_index('n_data_points')\n",
    "    .plot(title='Number of data points and test set accuracy')\n",
    ");"
   ]
  },
  {
   "cell_type": "code",
   "execution_count": null,
   "metadata": {},
   "outputs": [],
   "source": []
  }
 ],
 "metadata": {
  "kernelspec": {
   "display_name": "Python (deeplearning)",
   "language": "python",
   "name": "deeplearning"
  },
  "language_info": {
   "codemirror_mode": {
    "name": "ipython",
    "version": 3
   },
   "file_extension": ".py",
   "mimetype": "text/x-python",
   "name": "python",
   "nbconvert_exporter": "python",
   "pygments_lexer": "ipython3",
   "version": "3.6.10"
  }
 },
 "nbformat": 4,
 "nbformat_minor": 4
}
