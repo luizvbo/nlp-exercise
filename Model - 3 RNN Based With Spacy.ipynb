{
 "cells": [
  {
   "cell_type": "markdown",
   "metadata": {},
   "source": [
    "## Model 3 - RNN Based With Spacy"
   ]
  },
  {
   "cell_type": "code",
   "execution_count": 1,
   "metadata": {},
   "outputs": [],
   "source": [
    "%matplotlib inline\n",
    "%load_ext autoreload\n",
    "%autoreload 2\n",
    "\n",
    "import pandas as pd\n",
    "import numpy as np\n",
    "import re\n",
    "import matplotlib.pyplot as plt\n",
    "import spacy"
   ]
  },
  {
   "cell_type": "markdown",
   "metadata": {},
   "source": [
    "### 1 - Read the data"
   ]
  },
  {
   "cell_type": "code",
   "execution_count": 3,
   "metadata": {},
   "outputs": [],
   "source": [
    "df = pd.read_csv(\"../../data/IMDB Dataset.csv\")\n",
    "\n",
    "def preprocess(x):\n",
    "    x = re.sub(\"<br\\\\s*/?>\", \" \", x)\n",
    "    return x    \n",
    "\n",
    "df.review = df.review.apply(preprocess)\n",
    "df.sentiment = df.sentiment == \"positive\""
   ]
  },
  {
   "cell_type": "code",
   "execution_count": 4,
   "metadata": {},
   "outputs": [],
   "source": [
    "x_train = df.review.values\n",
    "y_train = df.sentiment.astype(int).values"
   ]
  },
  {
   "cell_type": "markdown",
   "metadata": {},
   "source": [
    "### 2 - Fetch the embedding vector"
   ]
  },
  {
   "cell_type": "code",
   "execution_count": 9,
   "metadata": {},
   "outputs": [],
   "source": [
    "from tensorflow.keras.layers import Input, Embedding, LSTM, Dense, Dropout, Masking, GRU\n",
    "from tensorflow.keras.models import Model\n",
    "\n",
    "from tensorflow.keras.preprocessing.text import Tokenizer\n",
    "from tensorflow.keras.preprocessing.sequence import pad_sequences\n",
    "from tensorflow.keras.optimizers import Adam"
   ]
  },
  {
   "cell_type": "code",
   "execution_count": 10,
   "metadata": {},
   "outputs": [],
   "source": [
    "nlp = spacy.load(\"en_core_web_md\")"
   ]
  },
  {
   "cell_type": "code",
   "execution_count": 11,
   "metadata": {},
   "outputs": [],
   "source": [
    "EMBEDDING_LAYER=96\n",
    "MAX_SEQ_LEN = 200\n",
    "\n",
    "x_train_embeedding = np.zeros((x_train.shape[0], MAX_SEQ_LEN, EMBEDDING_LAYER))\n",
    "for idx, text in enumerate(x_train):\n",
    "    doc = nlp(text)\n",
    "    tensorized = doc.tensor\n",
    "    x_train_embeedding[idx]=pad_sequences(np.transpose(tensorized), dtype='float32', maxlen=MAX_SEQ_LEN, padding='post', truncating='post').reshape(MAX_SEQ_LEN, EMBEDDING_LAYER)"
   ]
  },
  {
   "cell_type": "code",
   "execution_count": null,
   "metadata": {},
   "outputs": [],
   "source": []
  },
  {
   "cell_type": "markdown",
   "metadata": {},
   "source": [
    "### 3 - Build the model"
   ]
  },
  {
   "cell_type": "code",
   "execution_count": 12,
   "metadata": {},
   "outputs": [],
   "source": [
    "def make_model(input_shape, n_hidden_lstm = 128, n_hidden_dense = 64):\n",
    "    x = inp = Input(shape=input_shape)\n",
    "    x = Masking()(x)\n",
    "    x = LSTM(units=n_hidden_lstm)(x)\n",
    "    x = Dense(units=n_hidden_dense, activation='relu')(x)\n",
    "    x = Dropout(rate=0.2)(x)\n",
    "    out = x = Dense(1, activation='sigmoid')(x)\n",
    "    model = Model(inp, out)\n",
    "    return model"
   ]
  },
  {
   "cell_type": "code",
   "execution_count": null,
   "metadata": {},
   "outputs": [],
   "source": []
  },
  {
   "cell_type": "code",
   "execution_count": 13,
   "metadata": {},
   "outputs": [
    {
     "name": "stdout",
     "output_type": "stream",
     "text": [
      "Model: \"model\"\n",
      "_________________________________________________________________\n",
      "Layer (type)                 Output Shape              Param #   \n",
      "=================================================================\n",
      "input_1 (InputLayer)         [(None, 200, 96)]         0         \n",
      "_________________________________________________________________\n",
      "masking (Masking)            (None, 200, 96)           0         \n",
      "_________________________________________________________________\n",
      "lstm (LSTM)                  (None, 128)               115200    \n",
      "_________________________________________________________________\n",
      "dense (Dense)                (None, 64)                8256      \n",
      "_________________________________________________________________\n",
      "dropout (Dropout)            (None, 64)                0         \n",
      "_________________________________________________________________\n",
      "dense_1 (Dense)              (None, 1)                 65        \n",
      "=================================================================\n",
      "Total params: 123,521\n",
      "Trainable params: 123,521\n",
      "Non-trainable params: 0\n",
      "_________________________________________________________________\n"
     ]
    }
   ],
   "source": [
    "model = make_model(input_shape=[MAX_SEQ_LEN, EMBEDDING_LAYER])\n",
    "model.summary()\n",
    "model.compile(optimizer='adam',loss='binary_crossentropy', metrics=['accuracy'])"
   ]
  },
  {
   "cell_type": "markdown",
   "metadata": {},
   "source": [
    "### 4 - Train"
   ]
  },
  {
   "cell_type": "code",
   "execution_count": 14,
   "metadata": {},
   "outputs": [],
   "source": [
    "# set up the epoches to have better accuracy\n",
    "def train(x_train, y_train, model, batch_size=1000):\n",
    "    scores = []\n",
    "    loss = []\n",
    "    num_batch = int(x_train.shape[0] / batch_size)\n",
    "    for i in range(num_batch-1):\n",
    "        start = i * batch_size\n",
    "        end = (i + 1) * batch_size\n",
    "        history = model.fit(x_train[start:end], y_train[start:end], validation_data=(x_train, y_train), epochs=1)\n",
    "        scores.append(history.history['val_accuracy'])\n",
    "        loss.append(history.history['val_loss'])\n",
    "    return scores"
   ]
  },
  {
   "cell_type": "code",
   "execution_count": 15,
   "metadata": {},
   "outputs": [
    {
     "name": "stdout",
     "output_type": "stream",
     "text": [
      "Train on 1000 samples, validate on 50000 samples\n",
      "1000/1000 [==============================] - 546s 546ms/sample - loss: 0.7059 - accuracy: 0.4800 - val_loss: 0.6965 - val_accuracy: 0.5101\n",
      "Train on 1000 samples, validate on 50000 samples\n",
      "1000/1000 [==============================] - 623s 623ms/sample - loss: 0.7041 - accuracy: 0.4970 - val_loss: 0.6940 - val_accuracy: 0.5188\n",
      "Train on 1000 samples, validate on 50000 samples\n",
      "1000/1000 [==============================] - 744s 744ms/sample - loss: 0.6992 - accuracy: 0.5270 - val_loss: 0.6908 - val_accuracy: 0.5283\n",
      "Train on 1000 samples, validate on 50000 samples\n",
      "1000/1000 [==============================] - 12394s 12s/sample - loss: 0.6996 - accuracy: 0.5060 - val_loss: 0.6901 - val_accuracy: 0.5312\n",
      "Train on 1000 samples, validate on 50000 samples\n",
      "1000/1000 [==============================] - 719s 719ms/sample - loss: 0.6957 - accuracy: 0.5150 - val_loss: 0.6878 - val_accuracy: 0.5411\n",
      "Train on 1000 samples, validate on 50000 samples\n",
      "1000/1000 [==============================] - 706s 706ms/sample - loss: 0.6966 - accuracy: 0.5210 - val_loss: 0.6860 - val_accuracy: 0.5494\n",
      "Train on 1000 samples, validate on 50000 samples\n",
      "1000/1000 [==============================] - 708s 708ms/sample - loss: 0.6936 - accuracy: 0.5110 - val_loss: 0.6852 - val_accuracy: 0.5519\n",
      "Train on 1000 samples, validate on 50000 samples\n",
      "1000/1000 [==============================] - 710s 710ms/sample - loss: 0.6929 - accuracy: 0.5360 - val_loss: 0.6832 - val_accuracy: 0.5613\n",
      "Train on 1000 samples, validate on 50000 samples\n",
      "1000/1000 [==============================] - 713s 713ms/sample - loss: 0.6977 - accuracy: 0.4930 - val_loss: 0.6830 - val_accuracy: 0.5604\n",
      "Train on 1000 samples, validate on 50000 samples\n",
      "1000/1000 [==============================] - 721s 721ms/sample - loss: 0.6947 - accuracy: 0.5190 - val_loss: 0.6813 - val_accuracy: 0.5727\n",
      "Train on 1000 samples, validate on 50000 samples\n",
      "1000/1000 [==============================] - 711s 711ms/sample - loss: 0.6983 - accuracy: 0.5060 - val_loss: 0.6818 - val_accuracy: 0.5640\n",
      "Train on 1000 samples, validate on 50000 samples\n",
      "1000/1000 [==============================] - 705s 705ms/sample - loss: 0.6898 - accuracy: 0.5180 - val_loss: 0.6827 - val_accuracy: 0.5575\n",
      "Train on 1000 samples, validate on 50000 samples\n",
      "1000/1000 [==============================] - 709s 709ms/sample - loss: 0.6935 - accuracy: 0.5230 - val_loss: 0.6806 - val_accuracy: 0.5743\n",
      "Train on 1000 samples, validate on 50000 samples\n",
      "1000/1000 [==============================] - 708s 708ms/sample - loss: 0.6973 - accuracy: 0.5040 - val_loss: 0.6809 - val_accuracy: 0.5686\n",
      "Train on 1000 samples, validate on 50000 samples\n",
      "1000/1000 [==============================] - 715s 715ms/sample - loss: 0.6863 - accuracy: 0.5520 - val_loss: 0.6798 - val_accuracy: 0.5674\n",
      "Train on 1000 samples, validate on 50000 samples\n",
      "1000/1000 [==============================] - 709s 709ms/sample - loss: 0.6941 - accuracy: 0.5210 - val_loss: 0.6767 - val_accuracy: 0.5888\n",
      "Train on 1000 samples, validate on 50000 samples\n",
      "1000/1000 [==============================] - 710s 710ms/sample - loss: 0.6916 - accuracy: 0.5270 - val_loss: 0.6759 - val_accuracy: 0.5918\n",
      "Train on 1000 samples, validate on 50000 samples\n",
      "1000/1000 [==============================] - 712s 712ms/sample - loss: 0.6926 - accuracy: 0.5300 - val_loss: 0.6741 - val_accuracy: 0.5934\n",
      "Train on 1000 samples, validate on 50000 samples\n",
      "1000/1000 [==============================] - 706s 706ms/sample - loss: 0.6933 - accuracy: 0.5190 - val_loss: 0.6732 - val_accuracy: 0.5962\n",
      "Train on 1000 samples, validate on 50000 samples\n",
      "1000/1000 [==============================] - 708s 708ms/sample - loss: 0.6859 - accuracy: 0.5560 - val_loss: 0.6722 - val_accuracy: 0.5952\n",
      "Train on 1000 samples, validate on 50000 samples\n",
      "1000/1000 [==============================] - 705s 705ms/sample - loss: 0.6927 - accuracy: 0.5250 - val_loss: 0.6713 - val_accuracy: 0.5999\n",
      "Train on 1000 samples, validate on 50000 samples\n",
      "1000/1000 [==============================] - 708s 708ms/sample - loss: 0.6920 - accuracy: 0.5280 - val_loss: 0.6728 - val_accuracy: 0.5947\n",
      "Train on 1000 samples, validate on 50000 samples\n",
      "1000/1000 [==============================] - 706s 706ms/sample - loss: 0.6851 - accuracy: 0.5570 - val_loss: 0.6691 - val_accuracy: 0.6103\n",
      "Train on 1000 samples, validate on 50000 samples\n",
      "1000/1000 [==============================] - 710s 710ms/sample - loss: 0.6929 - accuracy: 0.5170 - val_loss: 0.6682 - val_accuracy: 0.6145\n",
      "Train on 1000 samples, validate on 50000 samples\n",
      "1000/1000 [==============================] - 715s 715ms/sample - loss: 0.6838 - accuracy: 0.5570 - val_loss: 0.6668 - val_accuracy: 0.6130\n",
      "Train on 1000 samples, validate on 50000 samples\n",
      "1000/1000 [==============================] - 731s 731ms/sample - loss: 0.6882 - accuracy: 0.5360 - val_loss: 0.6669 - val_accuracy: 0.6077\n",
      "Train on 1000 samples, validate on 50000 samples\n",
      "1000/1000 [==============================] - 707s 707ms/sample - loss: 0.6936 - accuracy: 0.5360 - val_loss: 0.6665 - val_accuracy: 0.6173\n",
      "Train on 1000 samples, validate on 50000 samples\n",
      "1000/1000 [==============================] - 709s 709ms/sample - loss: 0.6908 - accuracy: 0.5370 - val_loss: 0.6669 - val_accuracy: 0.6181\n",
      "Train on 1000 samples, validate on 50000 samples\n",
      "1000/1000 [==============================] - 707s 707ms/sample - loss: 0.6859 - accuracy: 0.5470 - val_loss: 0.6650 - val_accuracy: 0.6178\n",
      "Train on 1000 samples, validate on 50000 samples\n",
      "1000/1000 [==============================] - 706s 706ms/sample - loss: 0.6825 - accuracy: 0.5650 - val_loss: 0.6623 - val_accuracy: 0.6204\n",
      "Train on 1000 samples, validate on 50000 samples\n",
      "1000/1000 [==============================] - 709s 709ms/sample - loss: 0.6791 - accuracy: 0.5700 - val_loss: 0.6596 - val_accuracy: 0.6167\n",
      "Train on 1000 samples, validate on 50000 samples\n",
      "1000/1000 [==============================] - 709s 709ms/sample - loss: 0.6886 - accuracy: 0.5200 - val_loss: 0.6611 - val_accuracy: 0.6155\n",
      "Train on 1000 samples, validate on 50000 samples\n",
      "1000/1000 [==============================] - 707s 707ms/sample - loss: 0.6874 - accuracy: 0.5450 - val_loss: 0.6608 - val_accuracy: 0.6173\n",
      "Train on 1000 samples, validate on 50000 samples\n",
      "1000/1000 [==============================] - 707s 707ms/sample - loss: 0.6879 - accuracy: 0.5410 - val_loss: 0.6611 - val_accuracy: 0.6281\n",
      "Train on 1000 samples, validate on 50000 samples\n",
      "1000/1000 [==============================] - 710s 710ms/sample - loss: 0.6818 - accuracy: 0.5520 - val_loss: 0.6595 - val_accuracy: 0.6261\n",
      "Train on 1000 samples, validate on 50000 samples\n",
      "1000/1000 [==============================] - 706s 706ms/sample - loss: 0.6822 - accuracy: 0.5660 - val_loss: 0.6573 - val_accuracy: 0.6281\n",
      "Train on 1000 samples, validate on 50000 samples\n",
      "1000/1000 [==============================] - 707s 707ms/sample - loss: 0.6767 - accuracy: 0.5730 - val_loss: 0.6550 - val_accuracy: 0.6207\n",
      "Train on 1000 samples, validate on 50000 samples\n",
      "1000/1000 [==============================] - 712s 712ms/sample - loss: 0.6798 - accuracy: 0.5760 - val_loss: 0.6539 - val_accuracy: 0.6245\n",
      "Train on 1000 samples, validate on 50000 samples\n",
      "1000/1000 [==============================] - 706s 706ms/sample - loss: 0.6796 - accuracy: 0.5860 - val_loss: 0.6525 - val_accuracy: 0.6277\n",
      "Train on 1000 samples, validate on 50000 samples\n",
      "1000/1000 [==============================] - 724s 724ms/sample - loss: 0.6805 - accuracy: 0.5620 - val_loss: 0.6521 - val_accuracy: 0.6267\n",
      "Train on 1000 samples, validate on 50000 samples\n",
      "1000/1000 [==============================] - 778s 778ms/sample - loss: 0.6840 - accuracy: 0.5760 - val_loss: 0.6519 - val_accuracy: 0.6298\n",
      "Train on 1000 samples, validate on 50000 samples\n",
      "1000/1000 [==============================] - 777s 777ms/sample - loss: 0.6793 - accuracy: 0.5780 - val_loss: 0.6503 - val_accuracy: 0.6274\n",
      "Train on 1000 samples, validate on 50000 samples\n",
      "1000/1000 [==============================] - 774s 774ms/sample - loss: 0.6738 - accuracy: 0.5800 - val_loss: 0.6515 - val_accuracy: 0.6284\n",
      "Train on 1000 samples, validate on 50000 samples\n"
     ]
    },
    {
     "name": "stdout",
     "output_type": "stream",
     "text": [
      "1000/1000 [==============================] - 781s 781ms/sample - loss: 0.6779 - accuracy: 0.5660 - val_loss: 0.6513 - val_accuracy: 0.6346\n",
      "Train on 1000 samples, validate on 50000 samples\n",
      "1000/1000 [==============================] - 704s 704ms/sample - loss: 0.6798 - accuracy: 0.5820 - val_loss: 0.6504 - val_accuracy: 0.6362\n",
      "Train on 1000 samples, validate on 50000 samples\n",
      "1000/1000 [==============================] - 528s 528ms/sample - loss: 0.6717 - accuracy: 0.5810 - val_loss: 0.6486 - val_accuracy: 0.6335\n",
      "Train on 1000 samples, validate on 50000 samples\n",
      "1000/1000 [==============================] - 518s 518ms/sample - loss: 0.6715 - accuracy: 0.6020 - val_loss: 0.6460 - val_accuracy: 0.6328\n",
      "Train on 1000 samples, validate on 50000 samples\n",
      "1000/1000 [==============================] - 517s 517ms/sample - loss: 0.6847 - accuracy: 0.5720 - val_loss: 0.6468 - val_accuracy: 0.6372\n",
      "Train on 1000 samples, validate on 50000 samples\n",
      "1000/1000 [==============================] - 517s 517ms/sample - loss: 0.6839 - accuracy: 0.5630 - val_loss: 0.6491 - val_accuracy: 0.6413\n"
     ]
    }
   ],
   "source": [
    "scores = train(x_train_embeedding, y_train, model)"
   ]
  },
  {
   "cell_type": "code",
   "execution_count": 16,
   "metadata": {},
   "outputs": [
    {
     "data": {
      "image/png": "[encoded data removed]",
      "text/plain": [
       "<Figure size 432x288 with 1 Axes>"
      ]
     },
     "metadata": {
      "needs_background": "light"
     },
     "output_type": "display_data"
    }
   ],
   "source": [
    "plt.plot(scores, label='Train Accuracy')\n",
    "plt.xlabel('# of data points (1000)')\n",
    "plt.ylabel('Training Accuracy')\n",
    "plt.title('Training curve on data points')\n",
    "plt.show()"
   ]
  },
  {
   "cell_type": "code",
   "execution_count": null,
   "metadata": {},
   "outputs": [],
   "source": []
  }
 ],
 "metadata": {
  "kernelspec": {
   "display_name": "Python 3",
   "language": "python",
   "name": "python3"
  },
  "language_info": {
   "codemirror_mode": {
    "name": "ipython",
    "version": 3
   },
   "file_extension": ".py",
   "mimetype": "text/x-python",
   "name": "python",
   "nbconvert_exporter": "python",
   "pygments_lexer": "ipython3",
   "version": "3.7.6"
  }
 },
 "nbformat": 4,
 "nbformat_minor": 4
}
