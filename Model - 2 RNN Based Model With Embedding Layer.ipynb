{
 "cells": [
  {
   "cell_type": "markdown",
   "metadata": {},
   "source": [
    "## Model 2 - RNN Based With Embedding Layer"
   ]
  },
  {
   "cell_type": "code",
   "execution_count": 1,
   "metadata": {},
   "outputs": [],
   "source": [
    "%matplotlib inline\n",
    "%load_ext autoreload\n",
    "%autoreload 2\n",
    "\n",
    "import pandas as pd\n",
    "import numpy as np\n",
    "import re\n",
    "import matplotlib.pyplot as plt\n",
    "from sklearn.model_selection import train_test_split"
   ]
  },
  {
   "cell_type": "markdown",
   "metadata": {},
   "source": [
    "### 1 - Read the data "
   ]
  },
  {
   "cell_type": "code",
   "execution_count": 4,
   "metadata": {},
   "outputs": [],
   "source": [
    "df = pd.read_csv(\"../../data/IMDB Dataset.csv\")\n",
    "\n",
    "def preprocess(x):\n",
    "    x = re.sub(\"<br\\\\s*/?>\", \" \", x)\n",
    "    return x    \n",
    "\n",
    "df.review = df.review.apply(preprocess)\n",
    "df.sentiment = df.sentiment == \"positive\""
   ]
  },
  {
   "cell_type": "code",
   "execution_count": 5,
   "metadata": {},
   "outputs": [],
   "source": [
    "x_train = df.review.values\n",
    "y_train = df.sentiment.astype(int).values"
   ]
  },
  {
   "cell_type": "markdown",
   "metadata": {},
   "source": [
    "### 2- Build the model"
   ]
  },
  {
   "cell_type": "code",
   "execution_count": 6,
   "metadata": {},
   "outputs": [],
   "source": [
    "from tensorflow.keras.layers import Input, Embedding, LSTM, Dense, Dropout, Masking, GRU\n",
    "from tensorflow.keras.models import Model\n",
    "\n",
    "from tensorflow.keras.preprocessing.text import Tokenizer\n",
    "from tensorflow.keras.preprocessing.sequence import pad_sequences\n",
    "from tensorflow.keras.optimizers import Adam"
   ]
  },
  {
   "cell_type": "code",
   "execution_count": 7,
   "metadata": {},
   "outputs": [],
   "source": [
    "# Preprocee x_train\n",
    "MAX_SEQ_LEN = 200\n",
    "MAX_WORDS_VOCAB = 10000"
   ]
  },
  {
   "cell_type": "code",
   "execution_count": 8,
   "metadata": {},
   "outputs": [],
   "source": [
    "tokenizer = Tokenizer(num_words=MAX_WORDS_VOCAB, oov_token=0)\n",
    "tokenizer.fit_on_texts(x_train)\n",
    "\n",
    "x_train_tokenized = tokenizer.texts_to_sequences(x_train)\n",
    "x_train = pad_sequences(x_train_tokenized, maxlen=MAX_SEQ_LEN)"
   ]
  },
  {
   "cell_type": "code",
   "execution_count": 9,
   "metadata": {},
   "outputs": [],
   "source": [
    "def make_model(embedding_dim = 300, n_hidden_lstm = 128, n_hidden_dense = 128):\n",
    "    x = inp = Input(shape = [MAX_SEQ_LEN])\n",
    "    x = Embedding(input_dim=MAX_WORDS_VOCAB, output_dim=embedding_dim)(x)\n",
    "    x = LSTM(units=n_hidden_lstm)(x)\n",
    "    x = Dense(units=n_hidden_dense, activation='relu')(x)\n",
    "    x = Dropout(rate=0.3)(x)\n",
    "    out = x = Dense(1, activation='sigmoid')(x)\n",
    "    model = Model(inp, out)\n",
    "    return model"
   ]
  },
  {
   "cell_type": "code",
   "execution_count": 10,
   "metadata": {},
   "outputs": [
    {
     "name": "stdout",
     "output_type": "stream",
     "text": [
      "Model: \"model\"\n",
      "_________________________________________________________________\n",
      "Layer (type)                 Output Shape              Param #   \n",
      "=================================================================\n",
      "input_1 (InputLayer)         [(None, 200)]             0         \n",
      "_________________________________________________________________\n",
      "embedding (Embedding)        (None, 200, 300)          3000000   \n",
      "_________________________________________________________________\n",
      "lstm (LSTM)                  (None, 128)               219648    \n",
      "_________________________________________________________________\n",
      "dense (Dense)                (None, 128)               16512     \n",
      "_________________________________________________________________\n",
      "dropout (Dropout)            (None, 128)               0         \n",
      "_________________________________________________________________\n",
      "dense_1 (Dense)              (None, 1)                 129       \n",
      "=================================================================\n",
      "Total params: 3,236,289\n",
      "Trainable params: 3,236,289\n",
      "Non-trainable params: 0\n",
      "_________________________________________________________________\n"
     ]
    }
   ],
   "source": [
    "model = make_model()\n",
    "model.summary()\n",
    "model.compile(optimizer='adam',loss='binary_crossentropy', metrics=['accuracy'])"
   ]
  },
  {
   "cell_type": "markdown",
   "metadata": {},
   "source": [
    "### 3- Train"
   ]
  },
  {
   "cell_type": "code",
   "execution_count": 11,
   "metadata": {},
   "outputs": [],
   "source": [
    "# set up the epoches to have better accuracy\n",
    "def train(x_train, y_train, model, batch_size=1000):\n",
    "    scores = []\n",
    "    loss = []\n",
    "    num_batch = int(x_train.shape[0] / batch_size)\n",
    "    for i in range(num_batch-1):\n",
    "        start = i * batch_size\n",
    "        end = (i + 1) * batch_size\n",
    "        history = model.fit(x_train[start:end], y_train[start:end], validation_data=(x_train, y_train), epochs=1)\n",
    "        scores.append(history.history['val_accuracy'])\n",
    "        loss.append(history.history['val_loss'])\n",
    "    return scores"
   ]
  },
  {
   "cell_type": "code",
   "execution_count": 12,
   "metadata": {},
   "outputs": [
    {
     "name": "stdout",
     "output_type": "stream",
     "text": [
      "Train on 1000 samples, validate on 50000 samples\n",
      "1000/1000 [==============================] - 789s 789ms/sample - loss: 0.6910 - accuracy: 0.5340 - val_loss: 0.6787 - val_accuracy: 0.6464\n",
      "Train on 1000 samples, validate on 50000 samples\n",
      "1000/1000 [==============================] - 12407s 12s/sample - loss: 0.6045 - accuracy: 0.7110 - val_loss: 0.5765 - val_accuracy: 0.7102\n",
      "Train on 1000 samples, validate on 50000 samples\n",
      "1000/1000 [==============================] - 757s 757ms/sample - loss: 0.5460 - accuracy: 0.7210 - val_loss: 0.5100 - val_accuracy: 0.7529\n",
      "Train on 1000 samples, validate on 50000 samples\n",
      "1000/1000 [==============================] - 746s 746ms/sample - loss: 0.4407 - accuracy: 0.7990 - val_loss: 0.3886 - val_accuracy: 0.8297\n",
      "Train on 1000 samples, validate on 50000 samples\n",
      "1000/1000 [==============================] - 745s 745ms/sample - loss: 0.4222 - accuracy: 0.8100 - val_loss: 0.3556 - val_accuracy: 0.8481\n",
      "Train on 1000 samples, validate on 50000 samples\n",
      "1000/1000 [==============================] - 751s 751ms/sample - loss: 0.4400 - accuracy: 0.7940 - val_loss: 0.5110 - val_accuracy: 0.7559\n",
      "Train on 1000 samples, validate on 50000 samples\n",
      "1000/1000 [==============================] - 755s 755ms/sample - loss: 0.4533 - accuracy: 0.7930 - val_loss: 0.4115 - val_accuracy: 0.8166\n",
      "Train on 1000 samples, validate on 50000 samples\n",
      "1000/1000 [==============================] - 749s 749ms/sample - loss: 0.4113 - accuracy: 0.8170 - val_loss: 0.3606 - val_accuracy: 0.8466\n",
      "Train on 1000 samples, validate on 50000 samples\n",
      "1000/1000 [==============================] - 750s 750ms/sample - loss: 0.4065 - accuracy: 0.8150 - val_loss: 0.3717 - val_accuracy: 0.8518\n",
      "Train on 1000 samples, validate on 50000 samples\n",
      "1000/1000 [==============================] - 747s 747ms/sample - loss: 0.3473 - accuracy: 0.8520 - val_loss: 0.3546 - val_accuracy: 0.8482\n",
      "Train on 1000 samples, validate on 50000 samples\n",
      "1000/1000 [==============================] - 745s 745ms/sample - loss: 0.3943 - accuracy: 0.8300 - val_loss: 0.3570 - val_accuracy: 0.8556\n",
      "Train on 1000 samples, validate on 50000 samples\n",
      "1000/1000 [==============================] - 748s 748ms/sample - loss: 0.3557 - accuracy: 0.8510 - val_loss: 0.3665 - val_accuracy: 0.8468\n",
      "Train on 1000 samples, validate on 50000 samples\n",
      "1000/1000 [==============================] - 749s 749ms/sample - loss: 0.3920 - accuracy: 0.8390 - val_loss: 0.3876 - val_accuracy: 0.8429\n",
      "Train on 1000 samples, validate on 50000 samples\n",
      "1000/1000 [==============================] - 747s 747ms/sample - loss: 0.4009 - accuracy: 0.8290 - val_loss: 0.3337 - val_accuracy: 0.8663\n",
      "Train on 1000 samples, validate on 50000 samples\n",
      "1000/1000 [==============================] - 749s 749ms/sample - loss: 0.3540 - accuracy: 0.8570 - val_loss: 0.3368 - val_accuracy: 0.8591\n",
      "Train on 1000 samples, validate on 50000 samples\n",
      "1000/1000 [==============================] - 747s 747ms/sample - loss: 0.3716 - accuracy: 0.8510 - val_loss: 0.3451 - val_accuracy: 0.8682\n",
      "Train on 1000 samples, validate on 50000 samples\n",
      "1000/1000 [==============================] - 746s 746ms/sample - loss: 0.4183 - accuracy: 0.8070 - val_loss: 0.4728 - val_accuracy: 0.7654\n",
      "Train on 1000 samples, validate on 50000 samples\n",
      "1000/1000 [==============================] - 744s 744ms/sample - loss: 0.4412 - accuracy: 0.7960 - val_loss: 0.3997 - val_accuracy: 0.8451\n",
      "Train on 1000 samples, validate on 50000 samples\n",
      "1000/1000 [==============================] - 748s 748ms/sample - loss: 0.4845 - accuracy: 0.7700 - val_loss: 0.4708 - val_accuracy: 0.7706\n",
      "Train on 1000 samples, validate on 50000 samples\n",
      "1000/1000 [==============================] - 744s 744ms/sample - loss: 0.4297 - accuracy: 0.7950 - val_loss: 0.3831 - val_accuracy: 0.8391\n",
      "Train on 1000 samples, validate on 50000 samples\n",
      "1000/1000 [==============================] - 748s 748ms/sample - loss: 0.3811 - accuracy: 0.8320 - val_loss: 0.3459 - val_accuracy: 0.8507\n",
      "Train on 1000 samples, validate on 50000 samples\n",
      "1000/1000 [==============================] - 749s 749ms/sample - loss: 0.3677 - accuracy: 0.8340 - val_loss: 0.3040 - val_accuracy: 0.8734\n",
      "Train on 1000 samples, validate on 50000 samples\n",
      "1000/1000 [==============================] - 769s 769ms/sample - loss: 0.4402 - accuracy: 0.8130 - val_loss: 0.3608 - val_accuracy: 0.8551\n",
      "Train on 1000 samples, validate on 50000 samples\n",
      "1000/1000 [==============================] - 747s 747ms/sample - loss: 0.4001 - accuracy: 0.8310 - val_loss: 0.2962 - val_accuracy: 0.8826\n",
      "Train on 1000 samples, validate on 50000 samples\n",
      "1000/1000 [==============================] - 746s 746ms/sample - loss: 0.4086 - accuracy: 0.8150 - val_loss: 0.3142 - val_accuracy: 0.8668\n",
      "Train on 1000 samples, validate on 50000 samples\n",
      "1000/1000 [==============================] - 744s 744ms/sample - loss: 0.4032 - accuracy: 0.8230 - val_loss: 0.3487 - val_accuracy: 0.8484\n",
      "Train on 1000 samples, validate on 50000 samples\n",
      "1000/1000 [==============================] - 745s 745ms/sample - loss: 0.3310 - accuracy: 0.8710 - val_loss: 0.2829 - val_accuracy: 0.8861\n",
      "Train on 1000 samples, validate on 50000 samples\n",
      "1000/1000 [==============================] - 748s 748ms/sample - loss: 0.4191 - accuracy: 0.8190 - val_loss: 0.4625 - val_accuracy: 0.7854\n",
      "Train on 1000 samples, validate on 50000 samples\n",
      "1000/1000 [==============================] - 748s 748ms/sample - loss: 0.4453 - accuracy: 0.7900 - val_loss: 0.3771 - val_accuracy: 0.8331\n",
      "Train on 1000 samples, validate on 50000 samples\n",
      "1000/1000 [==============================] - 745s 745ms/sample - loss: 0.3731 - accuracy: 0.8410 - val_loss: 0.2944 - val_accuracy: 0.8786\n",
      "Train on 1000 samples, validate on 50000 samples\n",
      "1000/1000 [==============================] - 746s 746ms/sample - loss: 0.3545 - accuracy: 0.8510 - val_loss: 0.2977 - val_accuracy: 0.8809\n",
      "Train on 1000 samples, validate on 50000 samples\n",
      "1000/1000 [==============================] - 744s 744ms/sample - loss: 0.3495 - accuracy: 0.8560 - val_loss: 0.4272 - val_accuracy: 0.7783\n",
      "Train on 1000 samples, validate on 50000 samples\n",
      "1000/1000 [==============================] - 747s 747ms/sample - loss: 0.4996 - accuracy: 0.7530 - val_loss: 0.3762 - val_accuracy: 0.8412\n",
      "Train on 1000 samples, validate on 50000 samples\n",
      "1000/1000 [==============================] - 745s 745ms/sample - loss: 0.3851 - accuracy: 0.8340 - val_loss: 0.2790 - val_accuracy: 0.8899\n",
      "Train on 1000 samples, validate on 50000 samples\n",
      "1000/1000 [==============================] - 747s 747ms/sample - loss: 0.3756 - accuracy: 0.8480 - val_loss: 0.3064 - val_accuracy: 0.8701\n",
      "Train on 1000 samples, validate on 50000 samples\n",
      "1000/1000 [==============================] - 751s 751ms/sample - loss: 0.3672 - accuracy: 0.8370 - val_loss: 0.3146 - val_accuracy: 0.8747\n",
      "Train on 1000 samples, validate on 50000 samples\n",
      "1000/1000 [==============================] - 809s 809ms/sample - loss: 0.3000 - accuracy: 0.8680 - val_loss: 0.2530 - val_accuracy: 0.8977\n",
      "Train on 1000 samples, validate on 50000 samples\n",
      "1000/1000 [==============================] - 820s 820ms/sample - loss: 0.3480 - accuracy: 0.8520 - val_loss: 0.3091 - val_accuracy: 0.8812\n",
      "Train on 1000 samples, validate on 50000 samples\n",
      "1000/1000 [==============================] - 822s 822ms/sample - loss: 0.3384 - accuracy: 0.8600 - val_loss: 0.3389 - val_accuracy: 0.8636\n",
      "Train on 1000 samples, validate on 50000 samples\n",
      "1000/1000 [==============================] - 821s 821ms/sample - loss: 0.3567 - accuracy: 0.8600 - val_loss: 0.2587 - val_accuracy: 0.8964\n",
      "Train on 1000 samples, validate on 50000 samples\n",
      "1000/1000 [==============================] - 769s 769ms/sample - loss: 0.3417 - accuracy: 0.8580 - val_loss: 0.2812 - val_accuracy: 0.8935\n",
      "Train on 1000 samples, validate on 50000 samples\n",
      "1000/1000 [==============================] - 541s 541ms/sample - loss: 0.3543 - accuracy: 0.8590 - val_loss: 0.2545 - val_accuracy: 0.9049\n",
      "Train on 1000 samples, validate on 50000 samples\n",
      "1000/1000 [==============================] - 534s 534ms/sample - loss: 0.3620 - accuracy: 0.8470 - val_loss: 0.2557 - val_accuracy: 0.8995\n",
      "Train on 1000 samples, validate on 50000 samples\n"
     ]
    },
    {
     "name": "stdout",
     "output_type": "stream",
     "text": [
      "1000/1000 [==============================] - 533s 533ms/sample - loss: 0.3468 - accuracy: 0.8650 - val_loss: 0.2715 - val_accuracy: 0.9035\n",
      "Train on 1000 samples, validate on 50000 samples\n",
      "1000/1000 [==============================] - 533s 533ms/sample - loss: 0.3437 - accuracy: 0.8570 - val_loss: 0.2532 - val_accuracy: 0.9095\n",
      "Train on 1000 samples, validate on 50000 samples\n",
      "1000/1000 [==============================] - 395s 395ms/sample - loss: 0.3114 - accuracy: 0.8680 - val_loss: 0.2302 - val_accuracy: 0.9118\n",
      "Train on 1000 samples, validate on 50000 samples\n",
      "1000/1000 [==============================] - 395s 395ms/sample - loss: 0.2937 - accuracy: 0.8820 - val_loss: 0.2252 - val_accuracy: 0.9136\n",
      "Train on 1000 samples, validate on 50000 samples\n",
      "1000/1000 [==============================] - 395s 395ms/sample - loss: 0.3066 - accuracy: 0.8750 - val_loss: 0.2270 - val_accuracy: 0.9164\n",
      "Train on 1000 samples, validate on 50000 samples\n",
      "1000/1000 [==============================] - 395s 395ms/sample - loss: 0.2892 - accuracy: 0.8740 - val_loss: 0.2280 - val_accuracy: 0.9113\n"
     ]
    }
   ],
   "source": [
    "scores = train(x_train, y_train, model)"
   ]
  },
  {
   "cell_type": "code",
   "execution_count": 15,
   "metadata": {},
   "outputs": [
    {
     "data": {
      "image/png": "[encoded data removed]",
      "text/plain": [
       "<Figure size 432x288 with 1 Axes>"
      ]
     },
     "metadata": {
      "needs_background": "light"
     },
     "output_type": "display_data"
    }
   ],
   "source": [
    "plt.plot(scores, label='Train Accuracy')\n",
    "plt.xlabel('# of data points (1000)')\n",
    "plt.ylabel('Training Accuracy')\n",
    "plt.title('Training curve on data points')\n",
    "plt.show()"
   ]
  },
  {
   "cell_type": "code",
   "execution_count": null,
   "metadata": {},
   "outputs": [],
   "source": []
  }
 ],
 "metadata": {
  "kernelspec": {
   "display_name": "Python 3",
   "language": "python",
   "name": "python3"
  },
  "language_info": {
   "codemirror_mode": {
    "name": "ipython",
    "version": 3
   },
   "file_extension": ".py",
   "mimetype": "text/x-python",
   "name": "python",
   "nbconvert_exporter": "python",
   "pygments_lexer": "ipython3",
   "version": "3.7.6"
  }
 },
 "nbformat": 4,
 "nbformat_minor": 4
}
