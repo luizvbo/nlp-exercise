{
 "cells": [
  {
   "cell_type": "markdown",
   "metadata": {},
   "source": [
    "## Model 2 - RNN Based With Embedding Layer"
   ]
  },
  {
   "cell_type": "code",
   "execution_count": 39,
   "metadata": {},
   "outputs": [
    {
     "name": "stdout",
     "output_type": "stream",
     "text": [
      "The autoreload extension is already loaded. To reload it, use:\n",
      "  %reload_ext autoreload\n"
     ]
    }
   ],
   "source": [
    "%matplotlib inline\n",
    "%load_ext autoreload\n",
    "%autoreload 2\n",
    "\n",
    "import pandas as pd\n",
    "import numpy as np\n",
    "import re\n",
    "import matplotlib.pyplot as plt\n",
    "from sklearn.model_selection import train_test_split"
   ]
  },
  {
   "cell_type": "markdown",
   "metadata": {},
   "source": [
    "### 1 - Read the data "
   ]
  },
  {
   "cell_type": "code",
   "execution_count": 4,
   "metadata": {},
   "outputs": [],
   "source": [
    "df = pd.read_csv(\"../data/IMDB Dataset.csv\")\n",
    "\n",
    "def preprocess(x):\n",
    "    x = re.sub(\"<br\\\\s*/?>\", \" \", x)\n",
    "    return x    \n",
    "\n",
    "df.review = df.review.apply(preprocess)\n",
    "df.sentiment = df.sentiment == \"positive\""
   ]
  },
  {
   "cell_type": "code",
   "execution_count": 5,
   "metadata": {},
   "outputs": [],
   "source": [
    "x_train = df.review.values\n",
    "y_train = df.sentiment.astype(int).values"
   ]
  },
  {
   "cell_type": "markdown",
   "metadata": {},
   "source": [
    "### 2- Build the model"
   ]
  },
  {
   "cell_type": "code",
   "execution_count": 2,
   "metadata": {},
   "outputs": [],
   "source": [
    "from tensorflow.keras.layers import Input, Embedding, LSTM, Dense, Dropout, Masking, GRU\n",
    "from tensorflow.keras.models import Model\n",
    "\n",
    "from tensorflow.keras.preprocessing.text import Tokenizer\n",
    "from tensorflow.keras.preprocessing.sequence import pad_sequences\n",
    "from tensorflow.keras.optimizers import Adam"
   ]
  },
  {
   "cell_type": "code",
   "execution_count": 6,
   "metadata": {},
   "outputs": [],
   "source": [
    "# Preprocee x_train\n",
    "MAX_SEQ_LEN = 200\n",
    "MAX_WORDS_VOCAB = 10000"
   ]
  },
  {
   "cell_type": "code",
   "execution_count": 7,
   "metadata": {},
   "outputs": [],
   "source": [
    "tokenizer = Tokenizer(num_words=MAX_WORDS_VOCAB, oov_token=0)\n",
    "tokenizer.fit_on_texts(x_train)\n",
    "\n",
    "x_train_tokenized = tokenizer.texts_to_sequences(x_train)\n",
    "x_train = pad_sequences(x_train_tokenized, maxlen=MAX_SEQ_LEN)"
   ]
  },
  {
   "cell_type": "code",
   "execution_count": 9,
   "metadata": {},
   "outputs": [],
   "source": [
    "def make_model(embedding_dim = 300, n_hidden_lstm = 128, n_hidden_dense = 128):\n",
    "    x = inp = Input(shape = [MAX_SEQ_LEN])\n",
    "    x = Embedding(input_dim=MAX_WORDS_VOCAB, output_dim=embedding_dim)(x)\n",
    "    x = LSTM(units=n_hidden_lstm)(x)\n",
    "    x = Dense(units=n_hidden_dense, activation='relu')(x)\n",
    "    x = Dropout(rate=0.3)(x)\n",
    "    out = x = Dense(1, activation='sigmoid')(x)\n",
    "    model = Model(inp, out)\n",
    "    return model"
   ]
  },
  {
   "cell_type": "code",
   "execution_count": 43,
   "metadata": {},
   "outputs": [
    {
     "name": "stdout",
     "output_type": "stream",
     "text": [
      "Model: \"model_2\"\n",
      "_________________________________________________________________\n",
      "Layer (type)                 Output Shape              Param #   \n",
      "=================================================================\n",
      "input_3 (InputLayer)         [(None, 200)]             0         \n",
      "_________________________________________________________________\n",
      "embedding_2 (Embedding)      (None, 200, 300)          3000000   \n",
      "_________________________________________________________________\n",
      "lstm_2 (LSTM)                (None, 128)               219648    \n",
      "_________________________________________________________________\n",
      "dense_4 (Dense)              (None, 128)               16512     \n",
      "_________________________________________________________________\n",
      "dropout_2 (Dropout)          (None, 128)               0         \n",
      "_________________________________________________________________\n",
      "dense_5 (Dense)              (None, 1)                 129       \n",
      "=================================================================\n",
      "Total params: 3,236,289\n",
      "Trainable params: 3,236,289\n",
      "Non-trainable params: 0\n",
      "_________________________________________________________________\n"
     ]
    }
   ],
   "source": [
    "model = make_model()\n",
    "model.summary()\n",
    "model.compile(optimizer='adam',loss='binary_crossentropy', metrics=['accuracy'])"
   ]
  },
  {
   "cell_type": "markdown",
   "metadata": {},
   "source": [
    "### 3- Train"
   ]
  },
  {
   "cell_type": "code",
   "execution_count": 52,
   "metadata": {},
   "outputs": [],
   "source": [
    "# set up the epoches to have better accuracy\n",
    "def train(x_train, y_train, model, batch_size=1000):\n",
    "    scores = []\n",
    "    loss = []\n",
    "    num_batch = int(x_train.shape[0] / batch_size)\n",
    "    for i in range(num_batch-1):\n",
    "        start = i * batch_size\n",
    "        end = (i + 1) * batch_size\n",
    "        history = model.fit(x_train[start:end], y_train[start:end], validation_data=(x_train, y_train), epochs=1)\n",
    "        scores.append(history.history['val_accuracy'])\n",
    "        loss.append(history.history['val_loss'])\n",
    "    return scores"
   ]
  },
  {
   "cell_type": "code",
   "execution_count": 51,
   "metadata": {},
   "outputs": [],
   "source": [
    "scores = train(x_train, y_train, model)"
   ]
  },
  {
   "cell_type": "code",
   "execution_count": null,
   "metadata": {},
   "outputs": [],
   "source": [
    "plt.plot(scores, label='Train Accuracy')\n",
    "plt.xlabel('# of data points (1000)')\n",
    "plt.ylabel('Training Accuracy')\n",
    "plt.title('Training curve on data points')\n",
    "plt.show()"
   ]
  },
  {
   "cell_type": "code",
   "execution_count": null,
   "metadata": {},
   "outputs": [],
   "source": []
  }
 ],
 "metadata": {
  "kernelspec": {
   "display_name": "Python 3",
   "language": "python",
   "name": "python3"
  },
  "language_info": {
   "codemirror_mode": {
    "name": "ipython",
    "version": 3
   },
   "file_extension": ".py",
   "mimetype": "text/x-python",
   "name": "python",
   "nbconvert_exporter": "python",
   "pygments_lexer": "ipython3",
   "version": "3.7.6"
  }
 },
 "nbformat": 4,
 "nbformat_minor": 4
}
